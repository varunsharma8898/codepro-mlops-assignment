{
 "cells": [
  {
   "cell_type": "code",
   "execution_count": 3,
   "id": "20b80ed8",
   "metadata": {},
   "outputs": [],
   "source": [
    "import pandas as pd\n",
    "import os\n",
    "import sqlite3\n",
    "import sys\n",
    "from sqlite3 import Error\n",
    "\n",
    "sys.path.append('../../lead_scoring_data_pipeline')\n",
    "from constants import *\n",
    "from data_validation_checks import *\n",
    "from mapping.city_tier_mapping import *\n",
    "from significant_categorical_level import *\n",
    "from utils import *"
   ]
  },
  {
   "cell_type": "code",
   "execution_count": 5,
   "id": "6eea4808",
   "metadata": {},
   "outputs": [
    {
     "name": "stdout",
     "output_type": "stream",
     "text": [
      "\n",
      "\n",
      "\n",
      "\n"
     ]
    }
   ],
   "source": [
    "print(DB_PATH)\n",
    "print(DB_FILE_NAME)\n",
    "print(DATA_DIRECTORY)\n",
    "print(INTERACTION_MAPPING)"
   ]
  },
  {
   "cell_type": "code",
   "execution_count": 6,
   "id": "344ca317",
   "metadata": {},
   "outputs": [],
   "source": [
    "build_dbs()"
   ]
  },
  {
   "cell_type": "code",
   "execution_count": 4,
   "id": "75338f96",
   "metadata": {},
   "outputs": [
    {
     "name": "stdout",
     "output_type": "stream",
     "text": [
      "Loading data from /Users/varunssharma/codepro-mlops-assignment/dags/lead_scoring_data_pipeline/data/leadscoring.csv\n",
      "Processing total_leads_dropped and referred_lead columns\n",
      "Storing processed df to loaded_data table\n"
     ]
    }
   ],
   "source": [
    "load_data_into_db()"
   ]
  },
  {
   "cell_type": "code",
   "execution_count": 5,
   "id": "f12fc60d",
   "metadata": {},
   "outputs": [
    {
     "name": "stdout",
     "output_type": "stream",
     "text": [
      "Loading loaded_data table\n",
      "Mapping city_mapped to tiers\n",
      "Storing mapped df to table city_tier_mapped\n"
     ]
    }
   ],
   "source": [
    "map_city_tier()"
   ]
  },
  {
   "cell_type": "code",
   "execution_count": 6,
   "id": "7f828c54",
   "metadata": {},
   "outputs": [
    {
     "name": "stdout",
     "output_type": "stream",
     "text": [
      "Reading of city_tier_mapped data completed\n"
     ]
    },
    {
     "name": "stderr",
     "output_type": "stream",
     "text": [
      "/Users/varunssharma/codepro-mlops-assignment/dags/lead_scoring_data_pipeline/notebooks/../../lead_scoring_data_pipeline/utils.py:243: SettingWithCopyWarning: \n",
      "A value is trying to be set on a copy of a slice from a DataFrame.\n",
      "Try using .loc[row_indexer,col_indexer] = value instead\n",
      "\n",
      "See the caveats in the documentation: https://pandas.pydata.org/pandas-docs/stable/user_guide/indexing.html#returning-a-view-versus-a-copy\n",
      "  new_df[\"first_platform_c\"] = \"others\"  # replace the value of these levels to others\n",
      "/Users/varunssharma/codepro-mlops-assignment/dags/lead_scoring_data_pipeline/notebooks/../../lead_scoring_data_pipeline/utils.py:251: SettingWithCopyWarning: \n",
      "A value is trying to be set on a copy of a slice from a DataFrame.\n",
      "Try using .loc[row_indexer,col_indexer] = value instead\n",
      "\n",
      "See the caveats in the documentation: https://pandas.pydata.org/pandas-docs/stable/user_guide/indexing.html#returning-a-view-versus-a-copy\n",
      "  new_df[\"first_utm_medium_c\"] = \"others\"  # replace the value of these levels to others\n",
      "/Users/varunssharma/codepro-mlops-assignment/dags/lead_scoring_data_pipeline/notebooks/../../lead_scoring_data_pipeline/utils.py:258: SettingWithCopyWarning: \n",
      "A value is trying to be set on a copy of a slice from a DataFrame.\n",
      "Try using .loc[row_indexer,col_indexer] = value instead\n",
      "\n",
      "See the caveats in the documentation: https://pandas.pydata.org/pandas-docs/stable/user_guide/indexing.html#returning-a-view-versus-a-copy\n",
      "  new_df[\"first_utm_source_c\"] = \"others\"  # replace the value of these levels to others\n"
     ]
    },
    {
     "name": "stdout",
     "output_type": "stream",
     "text": [
      "Storing mapped df to table categorical_variables_mapped\n"
     ]
    }
   ],
   "source": [
    "map_categorical_vars()"
   ]
  },
  {
   "cell_type": "code",
   "execution_count": 7,
   "id": "6d8b85c0",
   "metadata": {},
   "outputs": [
    {
     "name": "stdout",
     "output_type": "stream",
     "text": [
      "categorical_variables_mapped table loaded\n",
      "Storing trimmed df to table model_input\n"
     ]
    }
   ],
   "source": [
    "interactions_mapping()"
   ]
  },
  {
   "cell_type": "code",
   "execution_count": null,
   "id": "cebaf77f",
   "metadata": {},
   "outputs": [],
   "source": []
  }
 ],
 "metadata": {
  "kernelspec": {
   "display_name": "Python 3 (ipykernel)",
   "language": "python",
   "name": "python3"
  },
  "language_info": {
   "codemirror_mode": {
    "name": "ipython",
    "version": 3
   },
   "file_extension": ".py",
   "mimetype": "text/x-python",
   "name": "python",
   "nbconvert_exporter": "python",
   "pygments_lexer": "ipython3",
   "version": "3.9.6"
  }
 },
 "nbformat": 4,
 "nbformat_minor": 5
}
