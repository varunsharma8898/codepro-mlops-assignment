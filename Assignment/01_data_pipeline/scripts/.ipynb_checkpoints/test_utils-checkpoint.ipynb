{
 "cells": [
  {
   "cell_type": "code",
   "execution_count": 1,
   "id": "20b80ed8",
   "metadata": {},
   "outputs": [],
   "source": [
    "import pandas as pd\n",
    "import os\n",
    "import sqlite3\n",
    "import sys\n",
    "from sqlite3 import Error\n",
    "\n",
    "# sys.path.append('../')\n",
    "from constants import *\n",
    "from data_validation_checks import *\n",
    "from city_tier_mapping import *\n",
    "from significant_categorical_level import *\n",
    "from utils import *"
   ]
  },
  {
   "cell_type": "code",
   "execution_count": 2,
   "id": "6eea4808",
   "metadata": {},
   "outputs": [
    {
     "name": "stdout",
     "output_type": "stream",
     "text": [
      "/Users/varunssharma/codepro-mlops-assignment/dags/lead_scoring_data_pipeline\n",
      "lead_scoring_data_cleaning.db\n",
      "/Users/varunssharma/codepro-mlops-assignment/dags/lead_scoring_data_pipeline/data/\n",
      "/Users/varunssharma/codepro-mlops-assignment/dags/lead_scoring_data_pipeline/mapping/interaction_mapping.csv\n"
     ]
    }
   ],
   "source": [
    "print(DB_PATH)\n",
    "print(DB_FILE_NAME)\n",
    "print(DATA_DIRECTORY)\n",
    "print(INTERACTION_MAPPING)"
   ]
  },
  {
   "cell_type": "code",
   "execution_count": 3,
   "id": "344ca317",
   "metadata": {},
   "outputs": [
    {
     "name": "stdout",
     "output_type": "stream",
     "text": [
      "DB Already Exists\n",
      "/Users/varunssharma/codepro-mlops-assignment/Assignment/01_data_pipeline/scripts\n"
     ]
    },
    {
     "data": {
      "text/plain": [
       "'DB Exists'"
      ]
     },
     "execution_count": 3,
     "metadata": {},
     "output_type": "execute_result"
    }
   ],
   "source": [
    "build_dbs()"
   ]
  },
  {
   "cell_type": "code",
   "execution_count": 4,
   "id": "75338f96",
   "metadata": {},
   "outputs": [
    {
     "name": "stdout",
     "output_type": "stream",
     "text": [
      "loaded_data already populated\n"
     ]
    }
   ],
   "source": [
    "load_data_into_db()"
   ]
  },
  {
   "cell_type": "code",
   "execution_count": 5,
   "id": "f12fc60d",
   "metadata": {},
   "outputs": [
    {
     "name": "stdout",
     "output_type": "stream",
     "text": [
      "city_tier_mapped already populated\n"
     ]
    }
   ],
   "source": [
    "map_city_tier()"
   ]
  },
  {
   "cell_type": "code",
   "execution_count": 6,
   "id": "7f828c54",
   "metadata": {},
   "outputs": [
    {
     "name": "stdout",
     "output_type": "stream",
     "text": [
      "categorical_variables_mapped already Stored\n"
     ]
    }
   ],
   "source": [
    "map_categorical_vars()"
   ]
  },
  {
   "cell_type": "code",
   "execution_count": 7,
   "id": "6d8b85c0",
   "metadata": {},
   "outputs": [
    {
     "name": "stdout",
     "output_type": "stream",
     "text": [
      "model_input and interactions_mapped already stored\n"
     ]
    }
   ],
   "source": [
    "interactions_mapping()"
   ]
  },
  {
   "cell_type": "code",
   "execution_count": null,
   "id": "e90c1d0a",
   "metadata": {},
   "outputs": [],
   "source": []
  }
 ],
 "metadata": {
  "kernelspec": {
   "display_name": "Python 3 (ipykernel)",
   "language": "python",
   "name": "python3"
  },
  "language_info": {
   "codemirror_mode": {
    "name": "ipython",
    "version": 3
   },
   "file_extension": ".py",
   "mimetype": "text/x-python",
   "name": "python",
   "nbconvert_exporter": "python",
   "pygments_lexer": "ipython3",
   "version": "3.9.6"
  }
 },
 "nbformat": 4,
 "nbformat_minor": 5
}
